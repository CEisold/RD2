{
  "cells": [
    {
      "metadata": {
        "trusted": true
      },
      "cell_type": "code",
      "source": "import re  #importiere Modul für reguläre Ausdrücke",
      "execution_count": null,
      "outputs": []
    },
    {
      "metadata": {
        "trusted": true
      },
      "cell_type": "code",
      "source": "text1='\"Holy Cow!\" said Batman.'  #Ziel: holy cow said batman\nclean_text_1 = re.sub(\"\",\"\",text1)\nprint(clean_text_1.lower())",
      "execution_count": null,
      "outputs": []
    },
    {
      "metadata": {
        "trusted": true
      },
      "cell_type": "code",
      "source": "text2= '\"What?\" said Batman\\'s sidekick Robin' #Ziel: what said batman's sidekick robin\nclean_text_2 = re.sub(\"\",\"\",text2)\nprint(clean_text_2.lower())",
      "execution_count": null,
      "outputs": []
    },
    {
      "metadata": {
        "trusted": true
      },
      "cell_type": "code",
      "source": "text3 = '104 Elm Street' #Ziel: one oh four elm street\nclean_text_3 = re.sub(\"\",\"\",text3)\nclean_text_3 = re.sub(\"\",\"\",clean_text_3)\nclean_text_3 = re.sub(\"\",\"\",clean_text_3)\nprint(clean_text_3.lower())",
      "execution_count": null,
      "outputs": []
    },
    {
      "metadata": {
        "trusted": true
      },
      "cell_type": "code",
      "source": "text4 = 'Tune to 102.7' #Ziel: tune to one oh two seven\nclean_text_4 = re.sub(\"\",\"\",text4)\nclean_text_4 = re.sub(\"\",\"\",clean_text_4)\nclean_text_4 = re.sub(\"\",\"\",clean_text_4)\nclean_text_4 = re.sub(\"\",\"\",clean_text_4)\nclean_text_4 = re.sub(\"\",\"\",clean_text_4)\nclean_text_4 = clean_text_4.lower()\nprint(clean_text_4)",
      "execution_count": null,
      "outputs": []
    },
    {
      "metadata": {
        "trusted": true
      },
      "cell_type": "code",
      "source": "text5 = 'Es ist 12.23 Uhr'  #Ziel: es ist 12:23 uhr\nclean_text_5 = re.sub(\"\",\"\",text5)\nprint(clean_text_5.lower())",
      "execution_count": null,
      "outputs": []
    },
    {
      "metadata": {
        "trusted": true
      },
      "cell_type": "code",
      "source": "text6 = '2 + 3 - 4'  #Ziel: 2 plus 3 minus 4\nclean_text_6 = re.sub(\"\",\"\",text6)\nclean_text_6 = re.sub(\"\",\"\",clean_text_6)\nprint(clean_text_6)",
      "execution_count": null,
      "outputs": []
    },
    {
      "metadata": {
        "trusted": true
      },
      "cell_type": "code",
      "source": "text7 = \"3CPO\"   #Ziel: three see pea o\nclean_text_7 = re.sub(\"\",\"\",text7)\nclean_text_7 = re.sub(\"\",\"\",clean_text_7)\nclean_text_7 = re.sub(\"\",\"\",clean_text_7)\nclean_text_7 = re.sub(\"\",\"\",clean_text_7)\nprint(clean_text_7.lower())",
      "execution_count": null,
      "outputs": []
    },
    {
      "metadata": {
        "trusted": true
      },
      "cell_type": "code",
      "source": "text8 = \"L8R\"   #Ziel: late are\nclean_text_8 = re.sub(\"\",\"\",text8)\nprint(clean_text_8.lower())",
      "execution_count": null,
      "outputs": []
    }
  ],
  "metadata": {
    "kernelspec": {
      "name": "python36",
      "display_name": "Python 3.6",
      "language": "python"
    },
    "language_info": {
      "mimetype": "text/x-python",
      "nbconvert_exporter": "python",
      "name": "python",
      "pygments_lexer": "ipython3",
      "version": "3.6.6",
      "file_extension": ".py",
      "codemirror_mode": {
        "version": 3,
        "name": "ipython"
      }
    }
  },
  "nbformat": 4,
  "nbformat_minor": 2
}