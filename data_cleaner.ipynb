{
  "cells": [
    {
      "metadata": {
        "trusted": true
      },
      "cell_type": "code",
      "source": "import re\nimport codecs\n\ntextfile = codecs.open(\"Textbeispiel1.txt\",\"r\",\"utf-8\")",
      "execution_count": 4,
      "outputs": []
    },
    {
      "metadata": {
        "trusted": true
      },
      "cell_type": "code",
      "source": "text = textfile.read()",
      "execution_count": 5,
      "outputs": []
    },
    {
      "metadata": {
        "trusted": true
      },
      "cell_type": "code",
      "source": "print(text)",
      "execution_count": 6,
      "outputs": [
        {
          "output_type": "stream",
          "text": "https://www.spektrum.de/lexikon/neurowissenschaft/locked-in-syndrom Sind Menschen mit dem Locked-in-Syndrom nach einem Schlaganfall vollständig oder fast vollständig in ihren Körper eingeschlossen, stellen solche Computer-Hirn-Schnittstellen oft die einzige Möglichkeit dar, mit der Außenwelt in Kontakt zu treten. Aber die Kommunikation ist äußerst mühsam. Wie der „Buchstabierer“ aus unserem fiktiven Fallbeispiel ringen die meisten Nutzer schon damit, auf diesem Weg mehr als 10&nbsp; Wörter pro Minute von sich zu geben. Zum Vergleich: Im Durchschnitt strömen rund 150&nbsp; Wörter pro Minute aus dem Munde eines gesunden Sprechers &nbsp;– und das ohne größere Anstrengungen.<blockquote>Wie sich Hirnsignale in Sprachlaute übersetzen lassen, variiert von Mensch zu Mensch </blockquote>Für Patienten würde daher ein Traum wahr, könnte man die Wörter und Sätze, die in ihrem Gehirn mit eingeschlossen sind, direkt »auslesen«. Forscher kommen diesem Ziel allmählich näher. Eine besondere Herausforderung ist dabei: Wie sich die Hirnsignale in Sprachlaute übersetzen lassen, variiert von Mensch zu Mensch. Computermodelle müssen individuell trainiert und auf die Patienten zugeschnitten werden. Und dafür brauchen sie möglichst genaue Daten. Denn das Sprechen erfordert eine extrem präzise Orchestrierung. https://www.spektrum.de/lexikon/neurowissenschaft/locked-in-syndrom/page1\n",
          "name": "stdout"
        }
      ]
    },
    {
      "metadata": {
        "trusted": true
      },
      "cell_type": "code",
      "source": "text_changed = re.sub(\"Computer\",\"Rechner\",text)",
      "execution_count": 7,
      "outputs": []
    },
    {
      "metadata": {
        "trusted": true
      },
      "cell_type": "code",
      "source": "print(text_changed)",
      "execution_count": 8,
      "outputs": [
        {
          "output_type": "stream",
          "text": "https://www.spektrum.de/lexikon/neurowissenschaft/locked-in-syndrom Sind Menschen mit dem Locked-in-Syndrom nach einem Schlaganfall vollständig oder fast vollständig in ihren Körper eingeschlossen, stellen solche Rechner-Hirn-Schnittstellen oft die einzige Möglichkeit dar, mit der Außenwelt in Kontakt zu treten. Aber die Kommunikation ist äußerst mühsam. Wie der „Buchstabierer“ aus unserem fiktiven Fallbeispiel ringen die meisten Nutzer schon damit, auf diesem Weg mehr als 10&nbsp; Wörter pro Minute von sich zu geben. Zum Vergleich: Im Durchschnitt strömen rund 150&nbsp; Wörter pro Minute aus dem Munde eines gesunden Sprechers &nbsp;– und das ohne größere Anstrengungen.<blockquote>Wie sich Hirnsignale in Sprachlaute übersetzen lassen, variiert von Mensch zu Mensch </blockquote>Für Patienten würde daher ein Traum wahr, könnte man die Wörter und Sätze, die in ihrem Gehirn mit eingeschlossen sind, direkt »auslesen«. Forscher kommen diesem Ziel allmählich näher. Eine besondere Herausforderung ist dabei: Wie sich die Hirnsignale in Sprachlaute übersetzen lassen, variiert von Mensch zu Mensch. Rechnermodelle müssen individuell trainiert und auf die Patienten zugeschnitten werden. Und dafür brauchen sie möglichst genaue Daten. Denn das Sprechen erfordert eine extrem präzise Orchestrierung. https://www.spektrum.de/lexikon/neurowissenschaft/locked-in-syndrom/page1\n",
          "name": "stdout"
        }
      ]
    },
    {
      "metadata": {
        "trusted": true
      },
      "cell_type": "code",
      "source": "#Übung1: Entfernung aller geschützten Leerzeichen (&nbsp;)\ntext_changed = re.sub(\"\",\"\",text)\nprint(text_changed)",
      "execution_count": null,
      "outputs": []
    },
    {
      "metadata": {
        "trusted": true
      },
      "cell_type": "code",
      "source": "#Übung2: Entfernung aller URLs\ntext_changed = re.sub(\"\",\"\",text_changed)\nprint(text_changed)",
      "execution_count": null,
      "outputs": []
    },
    {
      "metadata": {
        "trusted": true
      },
      "cell_type": "code",
      "source": "#Übung3: Entfernung aller Tags\ntext_changed = re.sub(\"\",\"\",text_changed)\nprint(text_changed)",
      "execution_count": null,
      "outputs": []
    }
  ],
  "metadata": {
    "kernelspec": {
      "name": "python36",
      "display_name": "Python 3.6",
      "language": "python"
    },
    "language_info": {
      "mimetype": "text/x-python",
      "nbconvert_exporter": "python",
      "name": "python",
      "pygments_lexer": "ipython3",
      "version": "3.6.6",
      "file_extension": ".py",
      "codemirror_mode": {
        "version": 3,
        "name": "ipython"
      }
    }
  },
  "nbformat": 4,
  "nbformat_minor": 2
}