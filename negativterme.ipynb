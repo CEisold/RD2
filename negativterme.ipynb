{
  "cells": [
    {
      "metadata": {
        "trusted": true
      },
      "cell_type": "code",
      "source": "import re\n\ntext = '''EQ Boost: Die Elektrifizierung moderner Verbrennungsmotoren, um ihre Effizienz zu steigern. Mercedes-Benz ist bei der Einführung des 48-Volt-Bordnetzes in seinen Autos ganz vorne dabei und hat die Technologie bereits mit der aktuellen Generation der S-Klasse in den Markt eingeführt. EQ Power: Unter diesem Label entwickelt Mercedes-Benz seine Plugin-Hybride weiter, um die perfekte Kombination von Verbrenner und Elektroantrieb anzubieten – auch in Verbindung mit der neuesten Generation an Dieselmotoren. EQ Power+ steht für die Performance-Hybridtechnologie, die Mercedes‑AMG in Zukunft auf der Straße und schon heute erfolgreich in der Formel 1 einsetzt. Komplett elektrische Antriebe wie beim EQC oder den drei smart EQ Modellen.'''",
      "execution_count": null,
      "outputs": []
    },
    {
      "metadata": {
        "trusted": true
      },
      "cell_type": "code",
      "source": "print(text)",
      "execution_count": null,
      "outputs": []
    },
    {
      "metadata": {
        "trusted": true
      },
      "cell_type": "code",
      "source": "termbank = {\"Auto\":\"Fahrzeug\", \"Karre\":\"Fahrzeug\", \"Plugin-Hybrid\":\"PlugIn-Hybrid\", \"Antrieb\":\"Fahrzeugantrieb\"}",
      "execution_count": null,
      "outputs": []
    }
  ],
  "metadata": {
    "kernelspec": {
      "name": "python36",
      "display_name": "Python 3.6",
      "language": "python"
    },
    "language_info": {
      "mimetype": "text/x-python",
      "nbconvert_exporter": "python",
      "name": "python",
      "pygments_lexer": "ipython3",
      "version": "3.6.6",
      "file_extension": ".py",
      "codemirror_mode": {
        "version": 3,
        "name": "ipython"
      }
    }
  },
  "nbformat": 4,
  "nbformat_minor": 2
}