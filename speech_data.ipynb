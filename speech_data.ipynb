{
  "cells": [
    {
      "metadata": {
        "trusted": true
      },
      "cell_type": "code",
      "source": "import re  #importiere Modul für reguläre Ausdrücke",
      "execution_count": null,
      "outputs": []
    },
    {
      "metadata": {
        "trusted": true
      },
      "cell_type": "code",
      "source": "text1='\"Holy Cow!\" said Batman.'  #Ziel: holy cow said batman\nclean_text = re.sub(\"\",\"\",text1)\nprint(clean_text)",
      "execution_count": null,
      "outputs": []
    },
    {
      "metadata": {
        "trusted": true
      },
      "cell_type": "code",
      "source": "text2= '\"What?\" said Batman\\'s sidekick Robin' #Ziel: what said batman's sidekick robin\nclean_text = re.sub(\"\",\"\",text2)\nclean_text = clean_text.lower()\nprint(clean_text)",
      "execution_count": null,
      "outputs": []
    },
    {
      "metadata": {
        "trusted": true
      },
      "cell_type": "code",
      "source": "text3 = '104 Elm Street' #Ziel: one oh four Elm street\nclean_text = re.sub(\"\",\"\",text3)\nclean_text = re.sub(\"\",\"\",clean_text)\nclean_text = re.sub(\"\",\"\",clean_text)\nclean_text = clean_text.lower()\nprint(clean_text)",
      "execution_count": null,
      "outputs": []
    },
    {
      "metadata": {
        "trusted": true
      },
      "cell_type": "code",
      "source": "text4 = 'Tune to 102.7' #Ziel: tune to one oh two seven\nclean_text = re.sub(\"\",\"\",text4)\nclean_text = re.sub(\"\",\"\",clean_text)\nclean_text = re.sub(\"\",\"\",clean_text)\nclean_text = re.sub(\"\",\"\",clean_text)\nclean_text = re.sub(\"\",\"\",clean_text)\nclean_text = clean_text.lower()\nprint(clean_text)",
      "execution_count": null,
      "outputs": []
    },
    {
      "metadata": {
        "trusted": true
      },
      "cell_type": "code",
      "source": "text5 = 'Es ist 12.23 Uhr'  #Ziel: Es ist 12:23 Uhr\nclean_text = re.sub(\"\",\"\",text5)\nprint(clean_text)",
      "execution_count": null,
      "outputs": []
    },
    {
      "metadata": {
        "trusted": true
      },
      "cell_type": "code",
      "source": "text6 = '2 + 3 - 4'  #Ziel: 2 plus 3 minus 4\nclean_text = re.sub(\"\",\"\",text6)\nclean_text = re.sub(\"\",\"\",clean_text)\nprint(clean_text)",
      "execution_count": null,
      "outputs": []
    },
    {
      "metadata": {
        "trusted": true
      },
      "cell_type": "code",
      "source": "",
      "execution_count": null,
      "outputs": []
    },
    {
      "metadata": {
        "trusted": true
      },
      "cell_type": "code",
      "source": "",
      "execution_count": null,
      "outputs": []
    },
    {
      "metadata": {
        "trusted": true
      },
      "cell_type": "code",
      "source": "",
      "execution_count": null,
      "outputs": []
    },
    {
      "metadata": {
        "trusted": true
      },
      "cell_type": "code",
      "source": "",
      "execution_count": null,
      "outputs": []
    }
  ],
  "metadata": {
    "kernelspec": {
      "name": "python36",
      "display_name": "Python 3.6",
      "language": "python"
    },
    "language_info": {
      "mimetype": "text/x-python",
      "nbconvert_exporter": "python",
      "name": "python",
      "pygments_lexer": "ipython3",
      "version": "3.6.6",
      "file_extension": ".py",
      "codemirror_mode": {
        "version": 3,
        "name": "ipython"
      }
    }
  },
  "nbformat": 4,
  "nbformat_minor": 2
}